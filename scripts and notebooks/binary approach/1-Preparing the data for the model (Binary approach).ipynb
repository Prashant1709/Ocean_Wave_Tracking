{
 "cells": [
  {
   "cell_type": "code",
   "execution_count": 1,
   "id": "ffa56947",
   "metadata": {},
   "outputs": [],
   "source": [
    "# Load the necessary modules\n",
    "import re\n",
    "import numpy as np\n",
    "import pandas as pd\n",
    "import os\n",
    "import imageio\n",
    "from skimage import transform,io\n",
    "import matplotlib.pyplot as plt\n",
    "from tqdm.notebook import tqdm\n",
    "from sklearn.preprocessing import OneHotEncoder"
   ]
  },
  {
   "cell_type": "code",
   "execution_count": 10,
   "id": "7202e8eb",
   "metadata": {},
   "outputs": [],
   "source": [
    "# Set the paths\n",
    "path_waves = r'C:/Users/KIIT/Desktop/Projects/Minor Project/Wave-Project/data/' # Path where the waves dataset is saved\n",
    "path_images = r'C:/Users/KIIT/Desktop/Projects/Minor Project/Wave-Project/data/Edited Images/' # Path where edited images dataset is saved\n",
    "path_outputs = r'C:/Users/KIIT/Desktop/Projects/Minor Project/Wave-Project/data/wave height data/binary approach/' # Path to save the outputs of this notebook"
   ]
  },
  {
   "cell_type": "code",
   "execution_count": 11,
   "id": "687561be",
   "metadata": {},
   "outputs": [],
   "source": [
    "# Load wave data\n",
    "waves = pd.read_csv(path_waves+'/wave height data/'+'waves_simar_cdf_cal.csv', header=0, delimiter=';',low_memory=False)"
   ]
  },
  {
   "cell_type": "code",
   "execution_count": 12,
   "id": "9d389ca0",
   "metadata": {},
   "outputs": [
    {
     "data": {
      "text/html": [
       "<div>\n",
       "<style scoped>\n",
       "    .dataframe tbody tr th:only-of-type {\n",
       "        vertical-align: middle;\n",
       "    }\n",
       "\n",
       "    .dataframe tbody tr th {\n",
       "        vertical-align: top;\n",
       "    }\n",
       "\n",
       "    .dataframe thead th {\n",
       "        text-align: right;\n",
       "    }\n",
       "</style>\n",
       "<table border=\"1\" class=\"dataframe\">\n",
       "  <thead>\n",
       "    <tr style=\"text-align: right;\">\n",
       "      <th></th>\n",
       "      <th>Year</th>\n",
       "      <th>Month</th>\n",
       "      <th>Day</th>\n",
       "      <th>Hour</th>\n",
       "      <th>Minute</th>\n",
       "      <th>Second</th>\n",
       "      <th>Hs</th>\n",
       "      <th>Tp</th>\n",
       "      <th>Dir</th>\n",
       "    </tr>\n",
       "  </thead>\n",
       "  <tbody>\n",
       "    <tr>\n",
       "      <th>0</th>\n",
       "      <td>2010</td>\n",
       "      <td>1.0</td>\n",
       "      <td>1.0</td>\n",
       "      <td>0.0</td>\n",
       "      <td>0.0</td>\n",
       "      <td>0.0</td>\n",
       "      <td>2.104998</td>\n",
       "      <td>8.86</td>\n",
       "      <td>210.0</td>\n",
       "    </tr>\n",
       "    <tr>\n",
       "      <th>1</th>\n",
       "      <td>2010</td>\n",
       "      <td>1.0</td>\n",
       "      <td>1.0</td>\n",
       "      <td>1.0</td>\n",
       "      <td>0.0</td>\n",
       "      <td>0.0</td>\n",
       "      <td>2.095924</td>\n",
       "      <td>8.71</td>\n",
       "      <td>214.0</td>\n",
       "    </tr>\n",
       "    <tr>\n",
       "      <th>2</th>\n",
       "      <td>2010</td>\n",
       "      <td>1.0</td>\n",
       "      <td>1.0</td>\n",
       "      <td>2.0</td>\n",
       "      <td>0.0</td>\n",
       "      <td>0.0</td>\n",
       "      <td>2.095924</td>\n",
       "      <td>8.57</td>\n",
       "      <td>217.0</td>\n",
       "    </tr>\n",
       "    <tr>\n",
       "      <th>3</th>\n",
       "      <td>2010</td>\n",
       "      <td>1.0</td>\n",
       "      <td>1.0</td>\n",
       "      <td>3.0</td>\n",
       "      <td>0.0</td>\n",
       "      <td>0.0</td>\n",
       "      <td>2.095924</td>\n",
       "      <td>8.43</td>\n",
       "      <td>221.0</td>\n",
       "    </tr>\n",
       "    <tr>\n",
       "      <th>4</th>\n",
       "      <td>2010</td>\n",
       "      <td>1.0</td>\n",
       "      <td>1.0</td>\n",
       "      <td>4.0</td>\n",
       "      <td>0.0</td>\n",
       "      <td>0.0</td>\n",
       "      <td>2.095924</td>\n",
       "      <td>8.61</td>\n",
       "      <td>225.0</td>\n",
       "    </tr>\n",
       "  </tbody>\n",
       "</table>\n",
       "</div>"
      ],
      "text/plain": [
       "   Year  Month  Day  Hour  Minute  Second        Hs    Tp    Dir\n",
       "0  2010    1.0  1.0   0.0     0.0     0.0  2.104998  8.86  210.0\n",
       "1  2010    1.0  1.0   1.0     0.0     0.0  2.095924  8.71  214.0\n",
       "2  2010    1.0  1.0   2.0     0.0     0.0  2.095924  8.57  217.0\n",
       "3  2010    1.0  1.0   3.0     0.0     0.0  2.095924  8.43  221.0\n",
       "4  2010    1.0  1.0   4.0     0.0     0.0  2.095924  8.61  225.0"
      ]
     },
     "execution_count": 12,
     "metadata": {},
     "output_type": "execute_result"
    }
   ],
   "source": [
    "waves.head()"
   ]
  },
  {
   "cell_type": "code",
   "execution_count": 13,
   "id": "d7b2a8da",
   "metadata": {},
   "outputs": [
    {
     "name": "stdout",
     "output_type": "stream",
     "text": [
      "Time extent of the whole wave dataset (hourly time resolution):\n",
      "\n",
      "From-> Year:2010, Month:1.0, Day:1.0, Hour:0.0\n",
      "To-> Year:2023,5,2,12,30,25,6.2,8.14,5.0, Month:nan, Day:nan, Hour:nan\n"
     ]
    }
   ],
   "source": [
    "print(\"Time extent of the whole wave dataset (hourly time resolution):\\n\")\n",
    "print(\"From-> Year:{0}, Month:{1}, Day:{2}, Hour:{3}\".format(waves.loc[0,\"Year\"],waves.loc[0,\"Month\"],waves.loc[0,\"Day\"],waves.loc[0,\"Hour\"]))\n",
    "print(\"To-> Year:{0}, Month:{1}, Day:{2}, Hour:{3}\".format(waves.loc[waves.index[-1],\"Year\"],waves.loc[waves.index[-1],\"Month\"],waves.loc[waves.index[-1],\"Day\"],waves.loc[waves.index[-1],\"Hour\"]))"
   ]
  },
  {
   "cell_type": "code",
   "execution_count": 14,
   "id": "82e76873",
   "metadata": {},
   "outputs": [
    {
     "name": "stdout",
     "output_type": "stream",
     "text": [
      "\n",
      "Counts of whole waves dataset:\n",
      "L      95090\n",
      "H      13432\n",
      "0.0        7\n",
      "Name: Hs_category, dtype: int64\n"
     ]
    }
   ],
   "source": [
    "# Create the Hs categories\n",
    "hs_category = np.zeros(len(waves)).tolist()\n",
    "\n",
    "for i in range(len(waves)):\n",
    "    if waves[\"Hs\"][i] <=1:\n",
    "        hs_category[i] = \"L\" #Low Hs [0-1 m]\n",
    "    elif waves[\"Hs\"][i] >1:\n",
    "        hs_category[i] = \"H\" #High Hs [> 1 m]\n",
    "\n",
    "# Add the Hs categories into the df\n",
    "waves[\"Hs_category\"] = hs_category\n",
    "\n",
    "# Count of every class\n",
    "print(\"\\nCounts of whole waves dataset:\")\n",
    "print(waves[\"Hs_category\"].value_counts())"
   ]
  },
  {
   "cell_type": "code",
   "execution_count": 15,
   "id": "901b44d8",
   "metadata": {},
   "outputs": [
    {
     "data": {
      "text/html": [
       "<div>\n",
       "<style scoped>\n",
       "    .dataframe tbody tr th:only-of-type {\n",
       "        vertical-align: middle;\n",
       "    }\n",
       "\n",
       "    .dataframe tbody tr th {\n",
       "        vertical-align: top;\n",
       "    }\n",
       "\n",
       "    .dataframe thead th {\n",
       "        text-align: right;\n",
       "    }\n",
       "</style>\n",
       "<table border=\"1\" class=\"dataframe\">\n",
       "  <thead>\n",
       "    <tr style=\"text-align: right;\">\n",
       "      <th></th>\n",
       "      <th>Year</th>\n",
       "      <th>Month</th>\n",
       "      <th>Day</th>\n",
       "      <th>Hour</th>\n",
       "      <th>Minute</th>\n",
       "      <th>Second</th>\n",
       "      <th>Hs</th>\n",
       "      <th>Tp</th>\n",
       "      <th>Dir</th>\n",
       "      <th>Hs_category</th>\n",
       "    </tr>\n",
       "  </thead>\n",
       "  <tbody>\n",
       "    <tr>\n",
       "      <th>0</th>\n",
       "      <td>2010</td>\n",
       "      <td>1.0</td>\n",
       "      <td>1.0</td>\n",
       "      <td>0.0</td>\n",
       "      <td>0.0</td>\n",
       "      <td>0.0</td>\n",
       "      <td>2.104998</td>\n",
       "      <td>8.86</td>\n",
       "      <td>210.0</td>\n",
       "      <td>H</td>\n",
       "    </tr>\n",
       "    <tr>\n",
       "      <th>1</th>\n",
       "      <td>2010</td>\n",
       "      <td>1.0</td>\n",
       "      <td>1.0</td>\n",
       "      <td>1.0</td>\n",
       "      <td>0.0</td>\n",
       "      <td>0.0</td>\n",
       "      <td>2.095924</td>\n",
       "      <td>8.71</td>\n",
       "      <td>214.0</td>\n",
       "      <td>H</td>\n",
       "    </tr>\n",
       "    <tr>\n",
       "      <th>2</th>\n",
       "      <td>2010</td>\n",
       "      <td>1.0</td>\n",
       "      <td>1.0</td>\n",
       "      <td>2.0</td>\n",
       "      <td>0.0</td>\n",
       "      <td>0.0</td>\n",
       "      <td>2.095924</td>\n",
       "      <td>8.57</td>\n",
       "      <td>217.0</td>\n",
       "      <td>H</td>\n",
       "    </tr>\n",
       "    <tr>\n",
       "      <th>3</th>\n",
       "      <td>2010</td>\n",
       "      <td>1.0</td>\n",
       "      <td>1.0</td>\n",
       "      <td>3.0</td>\n",
       "      <td>0.0</td>\n",
       "      <td>0.0</td>\n",
       "      <td>2.095924</td>\n",
       "      <td>8.43</td>\n",
       "      <td>221.0</td>\n",
       "      <td>H</td>\n",
       "    </tr>\n",
       "    <tr>\n",
       "      <th>4</th>\n",
       "      <td>2010</td>\n",
       "      <td>1.0</td>\n",
       "      <td>1.0</td>\n",
       "      <td>4.0</td>\n",
       "      <td>0.0</td>\n",
       "      <td>0.0</td>\n",
       "      <td>2.095924</td>\n",
       "      <td>8.61</td>\n",
       "      <td>225.0</td>\n",
       "      <td>H</td>\n",
       "    </tr>\n",
       "  </tbody>\n",
       "</table>\n",
       "</div>"
      ],
      "text/plain": [
       "   Year  Month  Day  Hour  Minute  Second        Hs    Tp    Dir Hs_category\n",
       "0  2010    1.0  1.0   0.0     0.0     0.0  2.104998  8.86  210.0           H\n",
       "1  2010    1.0  1.0   1.0     0.0     0.0  2.095924  8.71  214.0           H\n",
       "2  2010    1.0  1.0   2.0     0.0     0.0  2.095924  8.57  217.0           H\n",
       "3  2010    1.0  1.0   3.0     0.0     0.0  2.095924  8.43  221.0           H\n",
       "4  2010    1.0  1.0   4.0     0.0     0.0  2.095924  8.61  225.0           H"
      ]
     },
     "execution_count": 15,
     "metadata": {},
     "output_type": "execute_result"
    }
   ],
   "source": [
    "waves.head()"
   ]
  },
  {
   "cell_type": "markdown",
   "id": "0c0c2c57",
   "metadata": {},
   "source": [
    "## Images data"
   ]
  },
  {
   "cell_type": "code",
   "execution_count": 27,
   "id": "9476c729",
   "metadata": {},
   "outputs": [
    {
     "name": "stdout",
     "output_type": "stream",
     "text": [
      "['image_20235212_patch1.jpg', 'image_20235212_patch2.jpg', 'image_20235212_patch3.jpg']\n",
      "image_20235212_patch1.jpg\n",
      "image_20235212_patch2.jpg\n",
      "image_20235212_patch3.jpg\n"
     ]
    }
   ],
   "source": [
    "# Label each image\n",
    "list_images = os.listdir(path_images) # list of the names of all the image files\n",
    "print(list_images)\n",
    "paths_each_image = np.zeros(len(list_images)).tolist() # list of individual paths of the images to fill\n",
    "images_categories = np.zeros(len(list_images)).tolist() # list of the individual Hs categories to fill\n",
    "\n",
    "for i in range(len(list_images)):\n",
    "    # Extract the individual path of the i image file\n",
    "    paths_each_image[i] = str(path_images)+str(list_images[i])\n",
    "    print(list_images[i])\n",
    "    # Extract year, month, day and hour of i image file using regex\n",
    "    str_date_filename = re.search(r'\\d{4}\\d{1}\\d{1}\\d{2}', str(list_images[i]))\n",
    "    str_date_filename = str_date_filename.group()\n",
    "    year_image = int(str_date_filename[0:4])\n",
    "    month_image = int(str_date_filename[4:5])\n",
    "    day_image = int(str_date_filename[5:6])\n",
    "    hour_image = int(str_date_filename[6:8])\n",
    "    \n",
    "    # Extract the corresponding Hs-category of i image file\n",
    "    images_categories[i] = str(waves[(waves[\"Year\"]==year_image) &\n",
    "          (waves[\"Month\"]==month_image) &\n",
    "          (waves[\"Day\"]==day_image) &\n",
    "          (waves[\"Hour\"]==hour_image)][\"Hs_category\"].tolist())\n",
    "\n",
    "# Create a df with the individual paths and its Hs categories\n",
    "df_images_categories = pd.DataFrame(np.transpose(np.array([paths_each_image, images_categories])),\n",
    "                                    columns=[\"path_image\", \"Hs_category\"])"
   ]
  },
  {
   "cell_type": "code",
   "execution_count": 28,
   "id": "53665d7c",
   "metadata": {},
   "outputs": [
    {
     "data": {
      "text/html": [
       "<div>\n",
       "<style scoped>\n",
       "    .dataframe tbody tr th:only-of-type {\n",
       "        vertical-align: middle;\n",
       "    }\n",
       "\n",
       "    .dataframe tbody tr th {\n",
       "        vertical-align: top;\n",
       "    }\n",
       "\n",
       "    .dataframe thead th {\n",
       "        text-align: right;\n",
       "    }\n",
       "</style>\n",
       "<table border=\"1\" class=\"dataframe\">\n",
       "  <thead>\n",
       "    <tr style=\"text-align: right;\">\n",
       "      <th></th>\n",
       "      <th>path_image</th>\n",
       "      <th>Hs_category</th>\n",
       "    </tr>\n",
       "  </thead>\n",
       "  <tbody>\n",
       "    <tr>\n",
       "      <th>0</th>\n",
       "      <td>C:/Users/KIIT/Desktop/Projects/Minor Project/W...</td>\n",
       "      <td>[]</td>\n",
       "    </tr>\n",
       "    <tr>\n",
       "      <th>1</th>\n",
       "      <td>C:/Users/KIIT/Desktop/Projects/Minor Project/W...</td>\n",
       "      <td>[]</td>\n",
       "    </tr>\n",
       "    <tr>\n",
       "      <th>2</th>\n",
       "      <td>C:/Users/KIIT/Desktop/Projects/Minor Project/W...</td>\n",
       "      <td>[]</td>\n",
       "    </tr>\n",
       "  </tbody>\n",
       "</table>\n",
       "</div>"
      ],
      "text/plain": [
       "                                          path_image Hs_category\n",
       "0  C:/Users/KIIT/Desktop/Projects/Minor Project/W...          []\n",
       "1  C:/Users/KIIT/Desktop/Projects/Minor Project/W...          []\n",
       "2  C:/Users/KIIT/Desktop/Projects/Minor Project/W...          []"
      ]
     },
     "execution_count": 28,
     "metadata": {},
     "output_type": "execute_result"
    }
   ],
   "source": [
    "df_images_categories.head()"
   ]
  },
  {
   "cell_type": "code",
   "execution_count": 30,
   "id": "78f2682e",
   "metadata": {},
   "outputs": [
    {
     "name": "stdout",
     "output_type": "stream",
     "text": [
      "Counts of images waves dataset:\n",
      "[]    3\n",
      "Name: Hs_category, dtype: int64\n"
     ]
    }
   ],
   "source": [
    "# Count of every class and save the df\n",
    "print(\"Counts of images waves dataset:\")\n",
    "print(df_images_categories[\"Hs_category\"].value_counts())\n",
    "df_images_categories.to_csv(path_outputs+'df_images_categories.csv', index=False)"
   ]
  },
  {
   "cell_type": "code",
   "execution_count": 31,
   "id": "eb133361",
   "metadata": {},
   "outputs": [
    {
     "ename": "ModuleNotFoundError",
     "evalue": "No module named 'cv2'",
     "output_type": "error",
     "traceback": [
      "\u001b[1;31m---------------------------------------------------------------------------\u001b[0m",
      "\u001b[1;31mModuleNotFoundError\u001b[0m                       Traceback (most recent call last)",
      "Input \u001b[1;32mIn [31]\u001b[0m, in \u001b[0;36m<cell line: 2>\u001b[1;34m()\u001b[0m\n\u001b[0;32m      1\u001b[0m \u001b[38;5;66;03m# See an example\u001b[39;00m\n\u001b[1;32m----> 2\u001b[0m \u001b[38;5;28;01mimport\u001b[39;00m \u001b[38;5;21;01mcv2\u001b[39;00m\n\u001b[0;32m      3\u001b[0m img_L \u001b[38;5;241m=\u001b[39m cv2\u001b[38;5;241m.\u001b[39mimread(df_images_categories\u001b[38;5;241m.\u001b[39mloc[\u001b[38;5;241m734\u001b[39m, \u001b[38;5;124m\"\u001b[39m\u001b[38;5;124mpath_image\u001b[39m\u001b[38;5;124m\"\u001b[39m],\u001b[38;5;241m0\u001b[39m)\n\u001b[0;32m      4\u001b[0m img_H \u001b[38;5;241m=\u001b[39m cv2\u001b[38;5;241m.\u001b[39mimread(df_images_categories\u001b[38;5;241m.\u001b[39mloc[\u001b[38;5;241m45\u001b[39m, \u001b[38;5;124m\"\u001b[39m\u001b[38;5;124mpath_image\u001b[39m\u001b[38;5;124m\"\u001b[39m],\u001b[38;5;241m0\u001b[39m)\n",
      "\u001b[1;31mModuleNotFoundError\u001b[0m: No module named 'cv2'"
     ]
    }
   ],
   "source": [
    "# See an example\n",
    "import cv2\n",
    "img_L = cv2.imread(df_images_categories.loc[734, \"path_image\"],0)\n",
    "img_H = cv2.imread(df_images_categories.loc[45, \"path_image\"],0)\n",
    "\n",
    "plt.gcf().set_size_inches(10,10)\n",
    "plt.subplot(121),plt.imshow(img_L, cmap='gray'),plt.title('Low waves')\n",
    "plt.xticks([]), plt.yticks([])\n",
    "plt.subplot(122),plt.imshow(img_H, cmap='gray'),plt.title('High waves')\n",
    "plt.xticks([]), plt.yticks([])"
   ]
  },
  {
   "cell_type": "code",
   "execution_count": 32,
   "id": "c45f524e",
   "metadata": {},
   "outputs": [
    {
     "data": {
      "application/vnd.jupyter.widget-view+json": {
       "model_id": "b1ff7618b89048f7a6cc3f7951f66672",
       "version_major": 2,
       "version_minor": 0
      },
      "text/plain": [
       "  0%|          | 0/3 [00:00<?, ?it/s]"
      ]
     },
     "metadata": {},
     "output_type": "display_data"
    }
   ],
   "source": [
    "# Build the arrays\n",
    "X = [] # np-array of the images\n",
    "y = [] # np-array of the encoded labels\n",
    "\n",
    "for ind, item in tqdm(df_images_categories.iterrows(), total=len(df_images_categories)):\n",
    "    # Normalize values in the 0-1 range\n",
    "    im = imageio.imread(item[0])/255.\n",
    "    X.append(im)\n",
    "\n",
    "X = np.array(X)\n",
    "\n",
    "hs_encoder = OneHotEncoder(handle_unknown='ignore')\n",
    "hs_cat_1hot = hs_encoder.fit_transform(df_images_categories[[\"Hs_category\"]]).toarray()\n",
    "\n",
    "# Save the np arrays\n",
    "np.save(path_outputs+'X', X)\n",
    "np.save(path_outputs+'y', hs_cat_1hot)"
   ]
  },
  {
   "cell_type": "code",
   "execution_count": 33,
   "id": "24c4eda4",
   "metadata": {},
   "outputs": [
    {
     "data": {
      "text/plain": [
       "[array(['[]'], dtype=object)]"
      ]
     },
     "execution_count": 33,
     "metadata": {},
     "output_type": "execute_result"
    }
   ],
   "source": [
    "hs_encoder.categories_"
   ]
  },
  {
   "cell_type": "code",
   "execution_count": null,
   "id": "a4e09df8",
   "metadata": {},
   "outputs": [],
   "source": []
  }
 ],
 "metadata": {
  "kernelspec": {
   "display_name": "Python 3 (ipykernel)",
   "language": "python",
   "name": "python3"
  },
  "language_info": {
   "codemirror_mode": {
    "name": "ipython",
    "version": 3
   },
   "file_extension": ".py",
   "mimetype": "text/x-python",
   "name": "python",
   "nbconvert_exporter": "python",
   "pygments_lexer": "ipython3",
   "version": "3.9.12"
  }
 },
 "nbformat": 4,
 "nbformat_minor": 5
}
